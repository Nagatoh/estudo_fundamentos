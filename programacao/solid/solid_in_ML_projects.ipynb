{
 "cells": [
  {
   "cell_type": "markdown",
   "metadata": {},
   "source": [
    "# Aplicações em Projetos de Machine Learning"
   ]
  },
  {
   "cell_type": "markdown",
   "metadata": {},
   "source": [
    "## S - Princípio da responsabilidade única"
   ]
  },
  {
   "cell_type": "markdown",
   "metadata": {},
   "source": [
    "O princípio da responsabilidade única afirma que cada classe ou módulo deve ter uma única responsabilidade. Isso significa que cada classe ou módulo deve ser responsável por uma única tarefa ou conjunto de tarefas relacionadas."
   ]
  },
  {
   "cell_type": "code",
   "execution_count": null,
   "metadata": {},
   "outputs": [],
   "source": [
    "# Classe para preparar os dados\n",
    "class DataPreparator:\n",
    "\n",
    "    def __init__(self, dataset):\n",
    "        self.dataset = dataset\n",
    "\n",
    "    def preprocess(self):\n",
    "        # ...\n",
    "        return preprocessed_data\n",
    "\n",
    "# Classe para treinar o modelo\n",
    "class ModelTrainer:\n",
    "\n",
    "    def __init__(self, model, data):\n",
    "        self.model = model\n",
    "        self.data = data\n",
    "\n",
    "    def train(self):\n",
    "        # ...\n",
    "        return trained_model\n",
    "\n",
    "# Classe para avaliar o modelo\n",
    "class ModelEvaluator:\n",
    "\n",
    "    def __init__(self, model, data):\n",
    "        self.model = model\n",
    "        self.data = data\n",
    "\n",
    "    def evaluate(self):\n",
    "        # ...\n",
    "        return evaluation_results"
   ]
  },
  {
   "cell_type": "markdown",
   "metadata": {},
   "source": [
    "Neste exemplo, cada classe tem uma única responsabilidade:\n",
    "\n",
    "- DataPreparator é responsável por preparar os dados.\n",
    "- ModelTrainer é responsável por treinar o modelo.\n",
    "- ModelEvaluator é responsável por avaliar o modelo."
   ]
  },
  {
   "cell_type": "markdown",
   "metadata": {},
   "source": [
    "## O - Princípio do aberto-fechado"
   ]
  },
  {
   "cell_type": "markdown",
   "metadata": {},
   "source": [
    "O princípio do aberto-fechado afirma que um software deve ser aberto para extensão, mas fechado para modificação. Isso significa que o código deve ser projetado de forma que seja possível adicionar novas funcionalidades sem modificar o código existente."
   ]
  },
  {
   "cell_type": "code",
   "execution_count": null,
   "metadata": {},
   "outputs": [],
   "source": [
    "# Interface para modelos de classificação\n",
    "class ClassificationModel:\n",
    "\n",
    "    def predict(self, data):\n",
    "        pass\n",
    "\n",
    "# Classe para um modelo de regressão logística\n",
    "class LogisticRegressionModel(ClassificationModel):\n",
    "\n",
    "    def __init__(self, **kwargs):\n",
    "        super().__init__(**kwargs)\n",
    "\n",
    "    def predict(self, data):\n",
    "        # ...\n",
    "        return predictions\n",
    "\n",
    "# Classe para um modelo de árvore de decisão\n",
    "class DecisionTreeModel(ClassificationModel):\n",
    "\n",
    "    def __init__(self, **kwargs):\n",
    "        super().__init__(**kwargs)\n",
    "\n",
    "    def predict(self, data):\n",
    "        # ...\n",
    "        return predictions"
   ]
  },
  {
   "cell_type": "markdown",
   "metadata": {},
   "source": [
    "Neste exemplo, a interface ClassificationModel é aberta para extensão, pois pode ser implementada por qualquer classe que implemente o método predict(). A classe LogisticRegressionModel implementa o método predict() para um modelo de regressão logística. A classe DecisionTreeModel implementa o método predict() para um modelo de árvore de decisão."
   ]
  },
  {
   "cell_type": "markdown",
   "metadata": {},
   "source": [
    "## L - Princípio da substituição de Liskov"
   ]
  },
  {
   "cell_type": "markdown",
   "metadata": {},
   "source": [
    "O princípio da substituição de Liskov afirma que uma classe derivada deve ser substituta para sua classe base. Isso significa que qualquer código que funcione com a classe base deve funcionar com a classe derivada."
   ]
  },
  {
   "cell_type": "code",
   "execution_count": null,
   "metadata": {},
   "outputs": [],
   "source": [
    "# Classe base para modelos de classificação\n",
    "class ClassificationModel:\n",
    "\n",
    "    def predict(self, data):\n",
    "        pass\n",
    "\n",
    "# Classe derivada para um modelo de classificação binária\n",
    "class BinaryClassificationModel(ClassificationModel):\n",
    "\n",
    "    def predict(self, data):\n",
    "        # ...\n",
    "        return data[:, -1] > 0.5\n",
    "\n",
    "# Classe derivada para um modelo de classificação multiclasse\n",
    "class MultiClassClassificationModel(ClassificationModel):\n",
    "\n",
    "    def predict(self, data):\n",
    "        # ...\n",
    "        return np.argmax(data[:, -1])"
   ]
  },
  {
   "cell_type": "markdown",
   "metadata": {},
   "source": [
    "Neste exemplo, a classe ClassificationModel é a classe base para os modelos de classificação binária e multiclasse. \n",
    "A classe BinaryClassificationModel é substituta para a classe ClassificationModel, pois implementa o método predict() que retorna um valor booliano. \n",
    "A classe MultiClassClassificationModel também é substituta para a classe ClassificationModel, pois implementa o método predict() que retorna um índice inteiro."
   ]
  },
  {
   "cell_type": "markdown",
   "metadata": {},
   "source": [
    "Qualquer código que funcione com um modelo de classificação também deve funcionar com um modelo de classificação binária ou multiclasse. Por exemplo, o seguinte código funcionará com qualquer modelo de classificação:"
   ]
  },
  {
   "cell_type": "code",
   "execution_count": null,
   "metadata": {},
   "outputs": [],
   "source": [
    "def evaluate_model(model, data, labels):\n",
    "    predictions = model.predict(data)\n",
    "    accuracy = np.mean(predictions == labels)\n",
    "    return accuracy\n",
    "\n",
    "evaluate_model(BinaryClassificationModel(), data, labels)\n",
    "evaluate_model(MultiClassClassificationModel(), data, labels)"
   ]
  },
  {
   "cell_type": "markdown",
   "metadata": {},
   "source": [
    "## - I Princípio da segregação de interfaces"
   ]
  },
  {
   "cell_type": "markdown",
   "metadata": {},
   "source": [
    "O princípio da segregação de interfaces afirma que uma interface deve ser responsável por uma única tarefa ou conjunto de tarefas relacionadas. Isso significa que uma interface não deve fornecer métodos que não sejam necessários para a tarefa que ela representa."
   ]
  },
  {
   "cell_type": "code",
   "execution_count": null,
   "metadata": {},
   "outputs": [],
   "source": [
    "# Interface para modelos de classificação\n",
    "class ClassificationModel:\n",
    "\n",
    "    def predict(self, data):\n",
    "        pass\n",
    "\n",
    "# Interface para modelos de regressão\n",
    "class RegressionModel:\n",
    "\n",
    "    def fit(self, data):\n",
    "        pass\n",
    "\n",
    "    def predict(self, data):\n",
    "        pass"
   ]
  },
  {
   "cell_type": "markdown",
   "metadata": {},
   "source": [
    "Neste exemplo, a interface ClassificationModel é responsável por uma única tarefa: fazer previsões. A interface RegressionModel é responsável por duas tarefas: ajustar um modelo e fazer previsões."
   ]
  },
  {
   "cell_type": "markdown",
   "metadata": {},
   "source": [
    "## D - Princípio da inversão de dependência"
   ]
  },
  {
   "cell_type": "markdown",
   "metadata": {},
   "source": [
    "O princípio da inversão de dependência afirma que as classes dependentes devem depender de abstrações, em vez de implementações concretas. Isso significa que uma classe não deve depender de uma classe específica para funcionar. Em vez disso, ela deve depender de uma interface ou abstração que seja implementada por várias classes."
   ]
  },
  {
   "cell_type": "code",
   "execution_count": null,
   "metadata": {},
   "outputs": [],
   "source": [
    "# Interface para modelos de aprendizado de máquina\n",
    "class MachineLearningModel:\n",
    "\n",
    "    def fit(self, data):\n",
    "        pass\n",
    "\n",
    "    def predict(self, data):\n",
    "        pass\n",
    "\n",
    "# Classe que usa um modelo de aprendizado de máquina\n",
    "class ModelUser:\n",
    "\n",
    "    def __init__(self, model):\n",
    "        self.model = model\n",
    "\n",
    "    def use_model(self, data):\n",
    "        return self.model.predict(data)\n",
    "\n",
    "# Classe que implementa um modelo de regressão\n",
    "class RegressionModel(MachineLearningModel):\n",
    "\n",
    "    def __init__(self, **kwargs):\n",
    "        super().__init__(**kwargs)\n",
    "\n",
    "    def fit(self, data):\n",
    "        # ...\n",
    "        pass\n",
    "\n",
    "    def predict(self, data):\n",
    "        # ...\n",
    "        pass\n",
    "\n",
    "# Classe que implementa um modelo de classificação\n",
    "class ClassificationModel(MachineLearningModel):\n",
    "\n",
    "    def __init__(self, **kwargs):\n",
    "        super().__init__(**kwargs)\n",
    "\n",
    "    def fit(self, data):\n",
    "        # ...\n",
    "\n",
    "    def predict(self, data):\n",
    "        # ...\n",
    "        pass"
   ]
  },
  {
   "cell_type": "markdown",
   "metadata": {},
   "source": [
    "Neste exemplo, a classe ModelUser não depende de uma classe específica para usar um modelo de aprendizado de máquina. Em vez disso, ela depende da interface MachineLearningModel. \n",
    "Isso permite que a classe ModelUser seja usada com qualquer classe que implemente a interface MachineLearningModel, como a classe RegressionModel ou a classe ClassificationModel."
   ]
  },
  {
   "cell_type": "markdown",
   "metadata": {},
   "source": [
    "# Conclusão"
   ]
  },
  {
   "cell_type": "markdown",
   "metadata": {},
   "source": [
    "Os princípios SOLID são uma coleção de diretrizes de design de software que ajudam a criar código mais modular, reutilizável e fácil de manter. Eles são aplicáveis a qualquer linguagem de programação, incluindo Python.\n",
    "\n",
    "Ao aplicar os princípios SOLID em seus projetos de machine learning, você pode:\n",
    "\n",
    "Tornar seu código mais fácil de entender e manter.\n",
    "Tornar seu código mais flexível para mudanças futuras.\n",
    "Tornar seu código mais consistente e robusto."
   ]
  },
  {
   "cell_type": "markdown",
   "metadata": {},
   "source": []
  }
 ],
 "metadata": {
  "kernelspec": {
   "display_name": ".venv",
   "language": "python",
   "name": "python3"
  },
  "language_info": {
   "name": "python",
   "version": "3.9.13"
  },
  "orig_nbformat": 4
 },
 "nbformat": 4,
 "nbformat_minor": 2
}
