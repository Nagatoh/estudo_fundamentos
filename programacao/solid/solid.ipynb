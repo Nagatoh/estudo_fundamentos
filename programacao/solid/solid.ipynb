{
 "cells": [
  {
   "cell_type": "markdown",
   "metadata": {},
   "source": [
    "# 1 - Introdução aos Princípios SOLID\n"
   ]
  },
  {
   "cell_type": "markdown",
   "metadata": {},
   "source": [
    "Vamos começar com uma breve visão geral dos cinco princípios SOLID:\n",
    "\n",
    "S - Princípio da Responsabilidade Única (Single Responsibility Principle)\n",
    "\n",
    "O - Princípio do Aberto/Fechado (Open/Closed Principle)\n",
    "\n",
    "L - Princípio da Substituição de Liskov (Liskov Substitution Principle)\n",
    "\n",
    "I - Princípio da Segregação de Interface (Interface Segregation Principle)\n",
    "\n",
    "D - Princípio da Inversão de Dependência (Dependency Inversion Principle)"
   ]
  },
  {
   "cell_type": "markdown",
   "metadata": {},
   "source": [
    "Exemplo Inicial de código:\n"
   ]
  },
  {
   "cell_type": "code",
   "execution_count": null,
   "metadata": {},
   "outputs": [],
   "source": [
    "class Product:\n",
    "    def __init__(self, name, price):\n",
    "        self.name = name\n",
    "        self.price = price\n",
    "\n",
    "class ShoppingCart:\n",
    "    def __init__(self):\n",
    "        self.products = []\n",
    "\n",
    "    def add_product(self, product):\n",
    "        self.products.append(product)\n",
    "\n",
    "    def calculate_total_price(self):\n",
    "        total_price = 0\n",
    "        for product in self.products:\n",
    "            total_price += product.price\n",
    "        return total_price"
   ]
  },
  {
   "cell_type": "markdown",
   "metadata": {},
   "source": [
    "# S - Princípio da Responsabilidade Única (SRP)"
   ]
  },
  {
   "cell_type": "markdown",
   "metadata": {},
   "source": [
    "Aplicando o princípio da responsabilidade única (SRP)\n",
    "\n",
    "O primeiro princípio do SOLID é o Princípio da Responsabilidade Única (SRP). Esse princípio diz que cada classe deve ter apenas uma responsabilidade.\n",
    "\n",
    "No código original, a classe ShoppingCart tem duas responsabilidades:\n",
    "\n",
    "Armazenar os produtos do carrinho de compras\n",
    "Calcular o preço total do carrinho de compras\n",
    "Isso viola o SRP, pois essas duas responsabilidades são independentes uma da outra.\n",
    "\n",
    "Para corrigir isso, podemos separar as responsabilidades em duas classes diferentes:\n",
    "\n",
    "Classe ShoppingCart: Responsável por armazenar os produtos do carrinho de compras.\n",
    "Classe CartCalculator: Responsável por calcular o preço total do carrinho de compras."
   ]
  },
  {
   "cell_type": "markdown",
   "metadata": {},
   "source": [
    "Ao dividir a classe ShoppingCart em duas classes, nós tornamos o código mais fácil de entender e manter. A classe ProductRepository é responsável por uma tarefa específica: armazenar os produtos do carrinho de compras. A classe ShoppingCartService é responsável por outra tarefa específica: calcular o preço total dos produtos do carrinho de compras."
   ]
  },
  {
   "cell_type": "code",
   "execution_count": null,
   "metadata": {},
   "outputs": [],
   "source": [
    "class Product:\n",
    "    def __init__(self, name, price):\n",
    "        self.name = name\n",
    "        self.price = price\n",
    "\n",
    "\n",
    "class ShoppingCart:\n",
    "    def __init__(self):\n",
    "        self.products = []\n",
    "\n",
    "    def add_product(self, product):\n",
    "        self.products.append(product)\n",
    "\n",
    "\n",
    "class CartCalculator:\n",
    "    def __init__(self):\n",
    "        pass\n",
    "\n",
    "    def calculate_total_price(self, shopping_cart):\n",
    "        total_price = 0\n",
    "        for product in shopping_cart.products:\n",
    "            total_price += product.price\n",
    "        return total_price"
   ]
  },
  {
   "cell_type": "markdown",
   "metadata": {},
   "source": [
    "Explicação:\n",
    "\n",
    "A classe ShoppingCart agora possui apenas uma responsabilidade: armazenar os produtos do carrinho de compras.\n",
    "A classe CartCalculator agora possui apenas uma responsabilidade: calcular o preço total do carrinho de compras.\n",
    "Essas alterações tornam o código mais modular e reutilizável. Por exemplo, podemos facilmente adicionar uma nova classe que calcula o preço do frete para o carrinho de compras."
   ]
  },
  {
   "cell_type": "markdown",
   "metadata": {},
   "source": [
    "# O - Princípio do Aberto/Fechado (Open/Closed Principle)"
   ]
  },
  {
   "cell_type": "markdown",
   "metadata": {},
   "source": [
    "O segundo princípio do SOLID é o Princípio da Abertura/Fechamento (OCP). Esse princípio diz que as classes devem ser abertas para extensão, mas fechadas para modificação.\n",
    "No código original, a classe CartCalculator está fechada para extensão. Isso significa que não podemos adicionar novos comportamentos a essa classe sem modificar seu código.\n",
    "Para corrigir isso, podemos usar interfaces. Uma interface é um contrato que define os métodos que uma classe deve implementar.\n",
    "\n",
    "\n",
    "No código refactorizado, a classe CartCalculator implementa a interface ICartCalculator. Essa interface define o método calculate_total_price().\n",
    "\n",
    "Podemos criar outras classes que implementam a interface ICartCalculator e fornecem diferentes implementações do método calculate_total_price().\n",
    "\n",
    "Por exemplo, podemos criar uma classe que calcula o preço total do carrinho de compras com desconto para clientes VIP."
   ]
  },
  {
   "cell_type": "code",
   "execution_count": 1,
   "metadata": {},
   "outputs": [],
   "source": [
    "from abc import ABC, abstractmethod\n",
    "\n",
    "\n",
    "class Product:\n",
    "    def __init__(self, name, price):\n",
    "        self.name = name\n",
    "        self.price = price\n",
    "\n",
    "\n",
    "class ShoppingCart:\n",
    "    def __init__(self):\n",
    "        self.products = []\n",
    "\n",
    "    def add_product(self, product):\n",
    "        self.products.append(product)\n",
    "\n",
    "\n",
    "class ICartCalculator(ABC):\n",
    "    @abstractmethod\n",
    "    def calculate_total_price(self, shopping_cart):\n",
    "        pass\n",
    "\n",
    "\n",
    "class CartCalculator(ICartCalculator):\n",
    "    def calculate_total_price(self, shopping_cart):\n",
    "        total_price = 0\n",
    "        for product in shopping_cart.products:\n",
    "            total_price += product.price\n",
    "        return total_price\n",
    "\n",
    "\n",
    "class VipCartCalculator(ICartCalculator):\n",
    "    def calculate_total_price(self, shopping_cart):\n",
    "        total_price = CartCalculator.calculate_total_price(self, shopping_cart)\n",
    "        total_price *= 0.9\n",
    "        return total_price"
   ]
  },
  {
   "cell_type": "markdown",
   "metadata": {},
   "source": [
    "Explicação:\n",
    "\n",
    "A classe CartCalculator agora implementa a interface ICartCalculator.\n",
    "A classe VipCartCalculator também implementa a interface ICartCalculator e fornece uma implementação diferente do método calculate_total_price().\n",
    "Essas alterações tornam o código mais flexível e adaptável a mudanças futuras. Por exemplo, se quisermos adicionar um novo tipo de desconto, podemos facilmente criar uma nova classe que implementa a interface ICartCalculator."
   ]
  },
  {
   "cell_type": "markdown",
   "metadata": {},
   "source": [
    "# L - Princípio da Substituição de Liskov (Liskov Substitution Principle)"
   ]
  },
  {
   "cell_type": "markdown",
   "metadata": {},
   "source": [
    "O LSP diz que uma subclasse deve ser substituta para sua classe base em todos os contextos. Isso significa que uma subclasse deve poder ser usada em qualquer lugar onde a classe base possa ser usada.\n",
    "\n",
    "Para implementar esse princípio, devemos garantir que a subclasse não tenha nenhum comportamento que a classe base não tenha.\n",
    "\n",
    "No código refactorizado, a classe VipCartCalculator é uma subclasse da classe CartCalculator. A classe VipCartCalculator adiciona um novo comportamento, que é o cálculo do desconto para clientes VIP.\n",
    "\n",
    "Para garantir que a classe VipCartCalculator não viole o LSP, podemos adicionar um novo método à classe CartCalculator que calcula o desconto para clientes VIP.\n",
    "\n",
    "O novo método pode ser chamado de calculate_total_price_with_vip_discount().\n",
    "\n",
    "A classe VipCartCalculator pode então usar esse método para calcular o desconto para clientes VIP.\n",
    "\n",
    "Com essa alteração, a classe VipCartCalculator não adiciona nenhum comportamento que a classe CartCalculator não tenha. Isso garante que a classe VipCartCalculator seja substituta para a classe CartCalculator em todos os contextos."
   ]
  },
  {
   "cell_type": "code",
   "execution_count": null,
   "metadata": {},
   "outputs": [],
   "source": [
    "from abc import ABC, abstractmethod\n",
    "\n",
    "\n",
    "class Product:\n",
    "    def __init__(self, name, price):\n",
    "        self.name = name\n",
    "        self.price = price\n",
    "\n",
    "\n",
    "class ShoppingCart:\n",
    "    def __init__(self):\n",
    "        self.products = []\n",
    "\n",
    "    def add_product(self, product):\n",
    "        self.products.append(product)\n",
    "\n",
    "\n",
    "class ICartCalculator(ABC):\n",
    "    @abstractmethod\n",
    "    def calculate_total_price(self, shopping_cart):\n",
    "        pass\n",
    "\n",
    "\n",
    "class CartCalculator(ICartCalculator):\n",
    "    def calculate_total_price(self, shopping_cart):\n",
    "        total_price = 0\n",
    "        for product in shopping_cart.products:\n",
    "            total_price += product.price\n",
    "        return total_price\n",
    "\n",
    "    def calculate_total_price_with_vip_discount(self, shopping_cart):\n",
    "        total_price = self.calculate_total_price(shopping_cart)\n",
    "        total_price *= 0.9\n",
    "        return total_price\n",
    "\n",
    "\n",
    "class VipCartCalculator(CartCalculator):\n",
    "    def calculate_total_price(self, shopping_cart):\n",
    "        return self.calculate_total_price_with_vip_discount(shopping_cart)"
   ]
  },
  {
   "cell_type": "markdown",
   "metadata": {},
   "source": [
    "Explicação:\n",
    "\n",
    "A classe CartCalculator agora define o método calculate_total_price_with_vip_discount().\n",
    "A classe VipCartCalculator agora usa o método calculate_total_price_with_vip_discount() da classe CartCalculator para calcular o desconto para clientes VIP."
   ]
  },
  {
   "cell_type": "markdown",
   "metadata": {},
   "source": [
    "Duvidas que eu tive:\n",
    "\n",
    "1- eu não teria que implementar o desconto para vips na interface ICartCalculator?\n",
    "\n",
    "Como não é um comportamento obrigatório para as classes que implementam a interface, não é necessário implementa-la na interface\n",
    "Por exemplo, uma classe que implementa a interface ICartCalculator pode ser usada para calcular o preço total do carrinho de compras de um varejista que não oferece desconto para vips.\n",
    "\n",
    "Se o desconto para vips fosse implementado na interface ICartCalculator, todas as classes que implementam essa interface seriam obrigadas a fornecer esse comportamento. Isso tornaria o código menos flexível e adaptável a mudanças futuras.\n",
    "\n",
    "Ao adicionar o método calculate_total_price_with_vip_discount() à classe CartCalculator, estamos garantindo que as classes que implementam essa classe possam fornecer o desconto para vips, se necessário. No entanto, as classes que não precisam fornecer esse desconto não são obrigadas a fazê-lo.\n",
    "\n"
   ]
  },
  {
   "cell_type": "markdown",
   "metadata": {},
   "source": [
    "# I - Princípio da Segregação de Interface (Interface Segregation Principle)"
   ]
  },
  {
   "cell_type": "markdown",
   "metadata": {},
   "source": [
    "O quarto princípio do SOLID é o Princípio da Segregação da Interface (ISP). Esse princípio diz que as interfaces não devem ser forçadas a depender de métodos que não precisam.\n",
    "\n",
    "No código refactorizado, a interface ICartCalculator define o método calculate_total_price(). Esse método é utilizado para calcular o preço total do carrinho de compras.\n",
    "\n",
    "No entanto, nem todas as classes que implementam a interface ICartCalculator precisam calcular o preço total do carrinho de compras. Por exemplo, a classe VipCartCalculator só precisa calcular o preço total do carrinho de compras com desconto para clientes VIP.\n",
    "\n",
    "Para garantir que a interface ICartCalculator não seja forçada a depender de métodos que nem todas as classes que a implementam precisam, podemos dividir a interface em duas interfaces:\n",
    "\n",
    " - Interface IBaseCartCalculator: Define o método calculate_total_price().\n",
    " - Interface IVipCartCalculator: Define o método calculate_total_price_with_vip_discount().\n",
    "\n",
    "As classes CartCalculator e VipCartCalculator implementam as interfaces IBaseCartCalculator e IVipCartCalculator, respectivamente."
   ]
  },
  {
   "cell_type": "code",
   "execution_count": null,
   "metadata": {},
   "outputs": [],
   "source": [
    "from abc import ABC, abstractmethod\n",
    "\n",
    "\n",
    "class Product:\n",
    "    def __init__(self, name, price):\n",
    "        self.name = name\n",
    "        self.price = price\n",
    "\n",
    "\n",
    "class ShoppingCart:\n",
    "    def __init__(self):\n",
    "        self.products = []\n",
    "\n",
    "    def add_product(self, product):\n",
    "        self.products.append(product)\n",
    "\n",
    "\n",
    "class IBaseCartCalculator(ABC):\n",
    "    @abstractmethod\n",
    "    def calculate_total_price(self, shopping_cart):\n",
    "        pass\n",
    "\n",
    "class IVipCartCalculator(ABC):\n",
    "    @abstractmethod\n",
    "    def calculate_total_price_with_vip_discount(self, shopping_cart):\n",
    "        pass\n",
    "\n",
    "class CartCalculator(IBaseCartCalculator):\n",
    "    def calculate_total_price(self, shopping_cart):\n",
    "        total_price = 0\n",
    "        for product in shopping_cart.products:\n",
    "            total_price += product.price\n",
    "        return total_price\n",
    "\n",
    "class VipCartCalculator(IBaseCartCalculator, IVipCartCalculator):\n",
    "    def calculate_total_price(self, shopping_cart):\n",
    "        return self.calculate_total_price_with_vip_discount(shopping_cart)\n",
    "\n",
    "    def calculate_total_price_with_vip_discount(self, shopping_cart):\n",
    "        total_price = CartCalculator.calculate_total_price(self, shopping_cart)\n",
    "        total_price *= 0.9\n",
    "        return total_price"
   ]
  },
  {
   "cell_type": "markdown",
   "metadata": {},
   "source": [
    "Explicação:\n",
    "\n",
    "A interface ICartCalculator foi dividida em duas interfaces: IBaseCartCalculator e IVipCartCalculator.\n",
    "\n",
    "A classe CartCalculator agora implementa a interface IBaseCartCalculator.\n",
    "\n",
    "A classe VipCartCalculator agora implementa as interfaces IBaseCartCalculator e IVipCartCalculator.\n",
    "\n",
    "Essas alterações garantem que a interface ICartCalculator não seja forçada a depender de métodos que nem todas as classes que a implementam precisam.\n"
   ]
  },
  {
   "cell_type": "markdown",
   "metadata": {},
   "source": [
    "Considerações:\n",
    "\n",
    "A classe VipCartCalculator implementa a interface IBaseCartCalculator porque ela ainda precisa calcular o preço total do carrinho de compras, mesmo que esse preço seja calculado com um desconto para clientes VIP.\n",
    "Vamos supor que existam clientes Vips que não possuam direito ao desconto, o metodo calculate_total_price implementado pela interface IBaseCartCalculator iria servir nesse tipo de situação."
   ]
  },
  {
   "cell_type": "markdown",
   "metadata": {},
   "source": [
    "# D - Princípio da Inversão de Dependência (Dependency Inversion Principle)"
   ]
  },
  {
   "cell_type": "markdown",
   "metadata": {},
   "source": [
    "O Princípio da Inversão de Dependências (DIP) é um princípio de design de software que diz que classes de alto nível não devem depender de classes de baixo nível. Em vez disso, ambas as classes devem depender de abstrações.\n",
    "\n",
    "O nossó codigo anterior já está seguindo esse principio pois já implementamos interfaces para os métodos como podemos ver no código a seguir:\n"
   ]
  },
  {
   "cell_type": "code",
   "execution_count": null,
   "metadata": {},
   "outputs": [],
   "source": [
    "class VipCartCalculator(IBaseCartCalculator, IVipCartCalculator):\n",
    "    def calculate_total_price(self, shopping_cart):\n",
    "        return self.calculate_total_price_with_vip_discount(shopping_cart)\n",
    "\n",
    "    def calculate_total_price_with_vip_discount(self, shopping_cart):\n",
    "        total_price = CartCalculator.calculate_total_price(self, shopping_cart)\n",
    "        total_price *= 0.9\n",
    "        return total_price"
   ]
  },
  {
   "cell_type": "markdown",
   "metadata": {},
   "source": [
    "A classe VipCartCalculator não está fortemente acoplada a nenhuma outra classe concreta, apenas as interfaces.\n",
    "\n",
    "Isso permite usar qualquer implementação das interfaces IBaseCartCalculator, IVipCartCalculator, com isso não precisamos alterar nenhuma\n",
    "classe concreta(CartCalculator) para implementar metodos diferentes\n",
    "\n",
    "Se futuramente quisermos implementar um outro tipo de calculo para o carrinho que use essas duas interfaces, seria mais simples pois, bastaria implementar um metodo com essas duas interfaces como no exemplo a seguir:\n"
   ]
  },
  {
   "cell_type": "code",
   "execution_count": null,
   "metadata": {},
   "outputs": [],
   "source": [
    "class AnotherVipCartCalculator(IBaseCartCalculator, IVipCartCalculator):\n",
    "    def calculate_total_price(self, shopping_cart):\n",
    "        return self.calculate_total_price_with_vip_discount(shopping_cart)\n",
    "\n",
    "    def calculate_total_price_with_vip_discount(self, shopping_cart):\n",
    "        total_price = CartCalculator.calculate_total_price(self, shopping_cart)\n",
    "        total_price *= 0.8\n",
    "        return total_price"
   ]
  },
  {
   "cell_type": "code",
   "execution_count": null,
   "metadata": {},
   "outputs": [],
   "source": [
    "from abc import ABC, abstractmethod\n",
    "\n",
    "\n",
    "class Product:\n",
    "    def __init__(self, name, price):\n",
    "        self.name = name\n",
    "        self.price = price\n",
    "\n",
    "\n",
    "class ShoppingCart:\n",
    "    def __init__(self):\n",
    "        self.products = []\n",
    "\n",
    "    def add_product(self, product):\n",
    "        self.products.append(product)\n",
    "\n",
    "\n",
    "class IBaseCartCalculator(ABC):\n",
    "    @abstractmethod\n",
    "    def calculate_total_price(self, shopping_cart):\n",
    "        pass\n",
    "\n",
    "class IVipCartCalculator(ABC):\n",
    "    @abstractmethod\n",
    "    def calculate_total_price_with_vip_discount(self, shopping_cart):\n",
    "        pass\n",
    "\n",
    "class CartCalculator(IBaseCartCalculator):\n",
    "    def calculate_total_price(self, shopping_cart):\n",
    "        total_price = 0\n",
    "        for product in shopping_cart.products:\n",
    "            total_price += product.price\n",
    "        return total_price\n",
    "\n",
    "class VipCartCalculator(IBaseCartCalculator, IVipCartCalculator):\n",
    "    def calculate_total_price(self, shopping_cart):\n",
    "        return self.calculate_total_price_with_vip_discount(shopping_cart)\n",
    "\n",
    "    def calculate_total_price_with_vip_discount(self, shopping_cart):\n",
    "        total_price = CartCalculator.calculate_total_price(self, shopping_cart)\n",
    "        total_price *= 0.9\n",
    "        return total_price\n",
    "\n",
    "class AnotherVipCartCalculator(IBaseCartCalculator, IVipCartCalculator):\n",
    "    def calculate_total_price(self, shopping_cart):\n",
    "        return self.calculate_total_price_with_vip_discount(shopping_cart)\n",
    "\n",
    "    def calculate_total_price_with_vip_discount(self, shopping_cart):\n",
    "        total_price = CartCalculator.calculate_total_price(self, shopping_cart)\n",
    "        total_price *= 0.8\n",
    "        return total_price"
   ]
  }
 ],
 "metadata": {
  "kernelspec": {
   "display_name": "Python 3",
   "language": "python",
   "name": "python3"
  },
  "language_info": {
   "codemirror_mode": {
    "name": "ipython",
    "version": 3
   },
   "file_extension": ".py",
   "mimetype": "text/x-python",
   "name": "python",
   "nbconvert_exporter": "python",
   "pygments_lexer": "ipython3",
   "version": "3.9.13"
  },
  "orig_nbformat": 4
 },
 "nbformat": 4,
 "nbformat_minor": 2
}
